{
 "cells": [
  {
   "cell_type": "code",
   "execution_count": 25,
   "metadata": {},
   "outputs": [],
   "source": [
    "import pandas as pd\n",
    "import numpy as np\n",
    "from typing import List\n",
    "import matplotlib.pyplot as plt"
   ]
  },
  {
   "cell_type": "markdown",
   "metadata": {},
   "source": [
    "Read and analyze the data"
   ]
  },
  {
   "cell_type": "code",
   "execution_count": 2,
   "metadata": {},
   "outputs": [],
   "source": [
    "df_beijing = pd.read_csv(\"data/Beijing_labeled.csv\")\n",
    "df_shenyang = pd.read_csv(\"data/Shenyang_labeled.csv\")\n",
    "df_train = pd.concat([df_beijing, df_shenyang], axis=0)"
   ]
  },
  {
   "cell_type": "code",
   "execution_count": 3,
   "metadata": {},
   "outputs": [
    {
     "data": {
      "text/html": [
       "<div>\n",
       "<style scoped>\n",
       "    .dataframe tbody tr th:only-of-type {\n",
       "        vertical-align: middle;\n",
       "    }\n",
       "\n",
       "    .dataframe tbody tr th {\n",
       "        vertical-align: top;\n",
       "    }\n",
       "\n",
       "    .dataframe thead th {\n",
       "        text-align: right;\n",
       "    }\n",
       "</style>\n",
       "<table border=\"1\" class=\"dataframe\">\n",
       "  <thead>\n",
       "    <tr style=\"text-align: right;\">\n",
       "      <th></th>\n",
       "      <th>season</th>\n",
       "      <th>DEWP</th>\n",
       "      <th>HUMI</th>\n",
       "      <th>PRES</th>\n",
       "      <th>TEMP</th>\n",
       "      <th>Iws</th>\n",
       "      <th>precipitation</th>\n",
       "      <th>cbwd_NE</th>\n",
       "      <th>cbwd_NW</th>\n",
       "      <th>cbwd_SE</th>\n",
       "      <th>PM_HIGH</th>\n",
       "    </tr>\n",
       "  </thead>\n",
       "  <tbody>\n",
       "    <tr>\n",
       "      <th>0</th>\n",
       "      <td>4</td>\n",
       "      <td>-8.0</td>\n",
       "      <td>79.00</td>\n",
       "      <td>1026.0</td>\n",
       "      <td>-5.0</td>\n",
       "      <td>23.69</td>\n",
       "      <td>0.0</td>\n",
       "      <td>0</td>\n",
       "      <td>0</td>\n",
       "      <td>1</td>\n",
       "      <td>1.0</td>\n",
       "    </tr>\n",
       "    <tr>\n",
       "      <th>1</th>\n",
       "      <td>4</td>\n",
       "      <td>-11.0</td>\n",
       "      <td>85.00</td>\n",
       "      <td>1021.0</td>\n",
       "      <td>-9.0</td>\n",
       "      <td>105.93</td>\n",
       "      <td>1.1</td>\n",
       "      <td>0</td>\n",
       "      <td>0</td>\n",
       "      <td>1</td>\n",
       "      <td>0.0</td>\n",
       "    </tr>\n",
       "    <tr>\n",
       "      <th>2</th>\n",
       "      <td>4</td>\n",
       "      <td>-21.0</td>\n",
       "      <td>43.00</td>\n",
       "      <td>1030.0</td>\n",
       "      <td>-11.0</td>\n",
       "      <td>117.55</td>\n",
       "      <td>0.0</td>\n",
       "      <td>0</td>\n",
       "      <td>1</td>\n",
       "      <td>0</td>\n",
       "      <td>0.0</td>\n",
       "    </tr>\n",
       "    <tr>\n",
       "      <th>3</th>\n",
       "      <td>4</td>\n",
       "      <td>-25.0</td>\n",
       "      <td>33.00</td>\n",
       "      <td>1034.0</td>\n",
       "      <td>-12.0</td>\n",
       "      <td>39.35</td>\n",
       "      <td>0.0</td>\n",
       "      <td>1</td>\n",
       "      <td>0</td>\n",
       "      <td>0</td>\n",
       "      <td>0.0</td>\n",
       "    </tr>\n",
       "    <tr>\n",
       "      <th>4</th>\n",
       "      <td>4</td>\n",
       "      <td>-24.0</td>\n",
       "      <td>30.00</td>\n",
       "      <td>1034.0</td>\n",
       "      <td>-10.0</td>\n",
       "      <td>59.00</td>\n",
       "      <td>0.0</td>\n",
       "      <td>1</td>\n",
       "      <td>0</td>\n",
       "      <td>0</td>\n",
       "      <td>0.0</td>\n",
       "    </tr>\n",
       "    <tr>\n",
       "      <th>...</th>\n",
       "      <td>...</td>\n",
       "      <td>...</td>\n",
       "      <td>...</td>\n",
       "      <td>...</td>\n",
       "      <td>...</td>\n",
       "      <td>...</td>\n",
       "      <td>...</td>\n",
       "      <td>...</td>\n",
       "      <td>...</td>\n",
       "      <td>...</td>\n",
       "      <td>...</td>\n",
       "    </tr>\n",
       "    <tr>\n",
       "      <th>819</th>\n",
       "      <td>4</td>\n",
       "      <td>-22.0</td>\n",
       "      <td>50.63</td>\n",
       "      <td>1038.0</td>\n",
       "      <td>-14.0</td>\n",
       "      <td>4.00</td>\n",
       "      <td>0.0</td>\n",
       "      <td>0</td>\n",
       "      <td>0</td>\n",
       "      <td>0</td>\n",
       "      <td>1.0</td>\n",
       "    </tr>\n",
       "    <tr>\n",
       "      <th>820</th>\n",
       "      <td>4</td>\n",
       "      <td>-16.0</td>\n",
       "      <td>52.47</td>\n",
       "      <td>1034.0</td>\n",
       "      <td>-8.0</td>\n",
       "      <td>4.00</td>\n",
       "      <td>0.0</td>\n",
       "      <td>0</td>\n",
       "      <td>0</td>\n",
       "      <td>0</td>\n",
       "      <td>1.0</td>\n",
       "    </tr>\n",
       "    <tr>\n",
       "      <th>821</th>\n",
       "      <td>4</td>\n",
       "      <td>-13.0</td>\n",
       "      <td>45.91</td>\n",
       "      <td>1028.0</td>\n",
       "      <td>-3.0</td>\n",
       "      <td>40.00</td>\n",
       "      <td>0.0</td>\n",
       "      <td>0</td>\n",
       "      <td>0</td>\n",
       "      <td>1</td>\n",
       "      <td>1.0</td>\n",
       "    </tr>\n",
       "    <tr>\n",
       "      <th>822</th>\n",
       "      <td>4</td>\n",
       "      <td>-4.0</td>\n",
       "      <td>80.04</td>\n",
       "      <td>1029.0</td>\n",
       "      <td>-1.0</td>\n",
       "      <td>6.00</td>\n",
       "      <td>0.0</td>\n",
       "      <td>0</td>\n",
       "      <td>1</td>\n",
       "      <td>0</td>\n",
       "      <td>1.0</td>\n",
       "    </tr>\n",
       "    <tr>\n",
       "      <th>823</th>\n",
       "      <td>4</td>\n",
       "      <td>-8.0</td>\n",
       "      <td>79.42</td>\n",
       "      <td>1033.0</td>\n",
       "      <td>-5.0</td>\n",
       "      <td>4.00</td>\n",
       "      <td>0.0</td>\n",
       "      <td>0</td>\n",
       "      <td>0</td>\n",
       "      <td>0</td>\n",
       "      <td>1.0</td>\n",
       "    </tr>\n",
       "  </tbody>\n",
       "</table>\n",
       "<p>2895 rows × 11 columns</p>\n",
       "</div>"
      ],
      "text/plain": [
       "     season  DEWP   HUMI    PRES  TEMP     Iws  precipitation  cbwd_NE  \\\n",
       "0         4  -8.0  79.00  1026.0  -5.0   23.69            0.0        0   \n",
       "1         4 -11.0  85.00  1021.0  -9.0  105.93            1.1        0   \n",
       "2         4 -21.0  43.00  1030.0 -11.0  117.55            0.0        0   \n",
       "3         4 -25.0  33.00  1034.0 -12.0   39.35            0.0        1   \n",
       "4         4 -24.0  30.00  1034.0 -10.0   59.00            0.0        1   \n",
       "..      ...   ...    ...     ...   ...     ...            ...      ...   \n",
       "819       4 -22.0  50.63  1038.0 -14.0    4.00            0.0        0   \n",
       "820       4 -16.0  52.47  1034.0  -8.0    4.00            0.0        0   \n",
       "821       4 -13.0  45.91  1028.0  -3.0   40.00            0.0        0   \n",
       "822       4  -4.0  80.04  1029.0  -1.0    6.00            0.0        0   \n",
       "823       4  -8.0  79.42  1033.0  -5.0    4.00            0.0        0   \n",
       "\n",
       "     cbwd_NW  cbwd_SE  PM_HIGH  \n",
       "0          0        1      1.0  \n",
       "1          0        1      0.0  \n",
       "2          1        0      0.0  \n",
       "3          0        0      0.0  \n",
       "4          0        0      0.0  \n",
       "..       ...      ...      ...  \n",
       "819        0        0      1.0  \n",
       "820        0        0      1.0  \n",
       "821        0        1      1.0  \n",
       "822        1        0      1.0  \n",
       "823        0        0      1.0  \n",
       "\n",
       "[2895 rows x 11 columns]"
      ]
     },
     "execution_count": 3,
     "metadata": {},
     "output_type": "execute_result"
    }
   ],
   "source": [
    "df_train"
   ]
  },
  {
   "cell_type": "code",
   "execution_count": 4,
   "metadata": {},
   "outputs": [],
   "source": [
    "def print_label_stats(df: pd.DataFrame) -> None:\n",
    "    label_stats = df.iloc[::,-1].value_counts()\n",
    "    cnt_neg, cnt_pos = label_stats\n",
    "    print(\"Label ratio:\")\n",
    "    print(f\"Positive (polluted): {cnt_pos / (cnt_neg + cnt_pos)}\")\n",
    "    print(f\"Negative (not polluted): {cnt_neg / (cnt_neg + cnt_pos)}\")"
   ]
  },
  {
   "cell_type": "markdown",
   "metadata": {},
   "source": [
    "Inspect label distribution in data"
   ]
  },
  {
   "cell_type": "code",
   "execution_count": 5,
   "metadata": {},
   "outputs": [
    {
     "name": "stdout",
     "output_type": "stream",
     "text": [
      "Label ratio:\n",
      "Positive (polluted): 0.27495682210708117\n",
      "Negative (not polluted): 0.7250431778929188\n"
     ]
    }
   ],
   "source": [
    "# inspect the training data\n",
    "print_label_stats(df_train)"
   ]
  },
  {
   "cell_type": "code",
   "execution_count": 6,
   "metadata": {},
   "outputs": [],
   "source": [
    "# read test data\n",
    "df_guangzhou = pd.read_csv(\"data/Guangzhou_labeled.csv\")\n",
    "df_shanghai = pd.read_csv(\"data/Shanghai_labeled.csv\")\n"
   ]
  },
  {
   "cell_type": "code",
   "execution_count": 7,
   "metadata": {},
   "outputs": [
    {
     "name": "stdout",
     "output_type": "stream",
     "text": [
      "Guangzhou\n",
      "Label ratio:\n",
      "Positive (polluted): 0.06360946745562131\n",
      "Negative (not polluted): 0.9363905325443787\n",
      "Shanghai\n",
      "Label ratio:\n",
      "Positive (polluted): 0.09844559585492228\n",
      "Negative (not polluted): 0.9015544041450777\n"
     ]
    }
   ],
   "source": [
    "# inspect the test data\n",
    "print(\"Guangzhou\")\n",
    "print_label_stats(df_guangzhou)\n",
    "\n",
    "print(\"Shanghai\")\n",
    "print_label_stats(df_shanghai)"
   ]
  },
  {
   "cell_type": "code",
   "execution_count": 9,
   "metadata": {},
   "outputs": [
    {
     "name": "stdout",
     "output_type": "stream",
     "text": [
      "Train data ratio: 0.6816576406875441\n",
      "Test data ratio: 0.31834235931245586\n"
     ]
    }
   ],
   "source": [
    "test_ratio = df_guangzhou.shape[0] / (df_train.shape[0] + df_guangzhou.shape[0])\n",
    "train_ratio = 1 - test_ratio\n",
    "print(f\"Train data ratio: {train_ratio}\")\n",
    "print(f\"Test data ratio: {test_ratio}\")\n"
   ]
  },
  {
   "cell_type": "markdown",
   "metadata": {},
   "source": [
    "Prepare for training "
   ]
  },
  {
   "cell_type": "code",
   "execution_count": 10,
   "metadata": {},
   "outputs": [],
   "source": [
    "X_train = df_train.iloc[::, :-1].to_numpy()  # features\n",
    "Y_train = df_train.iloc[::, -1].to_numpy()  # labels\n",
    "\n",
    "X_test_guangzhou = df_guangzhou.iloc[::, :-1].to_numpy()  # features\n",
    "Y_test_guangzhou = df_guangzhou.iloc[::, -1].to_numpy()  # labels\n",
    "\n",
    "X_test_shanghai = df_shanghai.iloc[::, :-1].to_numpy()  # features\n",
    "Y_test_shanghai = df_shanghai.iloc[::, -1].to_numpy()  # labels"
   ]
  },
  {
   "cell_type": "markdown",
   "metadata": {},
   "source": [
    "Implementation of KNN algorithm"
   ]
  },
  {
   "cell_type": "code",
   "execution_count": 19,
   "metadata": {},
   "outputs": [],
   "source": [
    "import numpy as np\n",
    "\n",
    "\n",
    "class KNN:\n",
    "    def __init__(self, X: np.ndarray, Y: np.ndarray, k: int = 10):\n",
    "        self.X = X\n",
    "        self.Y = Y\n",
    "        self.k = k\n",
    "\n",
    "    def predict(self, x: np.ndarray) -> int:\n",
    "        \"\"\"\n",
    "        Predict class for given vector x\n",
    "        \"\"\"\n",
    "        self.neighbors = np.zeros((self.X.shape[0], 3))\n",
    "\n",
    "        for idx, row in enumerate(self.X):\n",
    "            dist = self._euclid_distance(x, row)\n",
    "            item_class = self.Y[idx]\n",
    "            self.neighbors = self._update_neighbors(\n",
    "                self.neighbors, item_class, dist, idx\n",
    "            )\n",
    "\n",
    "        # sort calculated neighbors by distance\n",
    "        self.neighbors = self.neighbors[self.neighbors[:, 0].argsort()][::-1]\n",
    "        prediction = self._pick_max()\n",
    "        return prediction\n",
    "\n",
    "    def score(self, X: np.ndarray, Y: np.ndarray) -> float:\n",
    "        \"\"\"\n",
    "        Calculate accuracy for given data set\n",
    "        \"\"\"\n",
    "        # make predictions for test set\n",
    "        predictions = np.zeros(X.shape[0])\n",
    "        for idx, x in enumerate(X):\n",
    "            predictions[idx] = self.predict(x)\n",
    "\n",
    "        # calc accuracy\n",
    "        accuracy = np.sum(np.equal(predictions, Y)) / Y.shape[0]\n",
    "        return accuracy\n",
    "\n",
    "    def _pick_max(self) -> int:\n",
    "        \"\"\"\n",
    "        Pick k nearest neighbors and decide majority vote for predicted class\n",
    "        \"\"\"\n",
    "        k_neighbors = self.neighbors[: self.k, ::]\n",
    "        cnt_zero = np.count_nonzero(k_neighbors == 0)\n",
    "        cnt_one = np.count_nonzero(k_neighbors == 1)\n",
    "        return 0 if cnt_zero > cnt_one else 1\n",
    "\n",
    "    def _update_neighbors(\n",
    "        self, neighbors: np.ndarray, item_class: int, dist: float, idx: int\n",
    "    ) -> np.ndarray:\n",
    "        \"\"\"\n",
    "        Add calculated neighbor to array with its distance, actual class and the index in the\n",
    "        original dataframe\n",
    "        \"\"\"\n",
    "        # add new neighbor to array\n",
    "        neighbors[idx][0], neighbors[idx][1], neighbors[idx][2] = dist, item_class, idx\n",
    "        return neighbors\n",
    "\n",
    "    def _euclid_distance(self, x: np.ndarray, y: np.ndarray) -> float:\n",
    "        \"\"\"Calculate euclidian distance of vectors\"\"\"\n",
    "        dist = np.linalg.norm(x - y)\n",
    "        return dist\n"
   ]
  },
  {
   "cell_type": "code",
   "execution_count": 26,
   "metadata": {},
   "outputs": [],
   "source": [
    "def cross_validation(k_vals: range, X_train: np.ndarray, Y_train: np.ndarray):\n",
    "    \"\"\"\n",
    "    Cross validate different k values to find the optimal one with the highest accuracy\n",
    "    \"\"\"\n",
    "    results = {}\n",
    "    for k in k_vals:\n",
    "        knn = KNN(X_train, Y_train, k=k)\n",
    "        results[k] = knn.score(X_train, Y_train)\n",
    "    return results\n"
   ]
  },
  {
   "cell_type": "code",
   "execution_count": 24,
   "metadata": {},
   "outputs": [
    {
     "name": "stdout",
     "output_type": "stream",
     "text": [
      "{1: 0.7215889464594127, 2: 0.7170984455958549, 3: 0.718825561312608, 4: 0.7105354058721934, 5: 0.7132987910189983, 6: 0.7094991364421416, 7: 0.7105354058721934, 8: 0.7084628670120898, 9: 0.7084628670120898, 10: 0.7081174438687392, 11: 0.7081174438687392, 12: 0.7077720207253886, 13: 0.7094991364421416, 14: 0.7088082901554404, 15: 0.7112262521588947, 16: 0.7098445595854922, 17: 0.71433506044905, 18: 0.7108808290155441, 19: 0.7136442141623489}\n",
      "Optimal k = 1 with accuracy of 0.7215889464594127\n"
     ]
    }
   ],
   "source": [
    "# can take some minutes to run depending on the amount of k values\n",
    "k_vals = range(1, 20)\n",
    "k_results = cross_validation(\n",
    "    k_vals, X_train, Y_train\n",
    ")\n",
    "opt_k = max(k_results, key=k_results.get)\n",
    "\n",
    "print(k_results)\n",
    "print(f\"Optimal k = {opt_k} with accuracy of {k_results[opt_k]}\")\n"
   ]
  },
  {
   "cell_type": "code",
   "execution_count": 32,
   "metadata": {},
   "outputs": [
    {
     "data": {
      "image/png": "[encoded data removed]",
      "text/plain": [
       "<Figure size 432x288 with 1 Axes>"
      ]
     },
     "metadata": {
      "needs_background": "light"
     },
     "output_type": "display_data"
    }
   ],
   "source": [
    "fig = plt.figure()\n",
    "ax = fig.add_subplot(1, 1, 1)\n",
    "ax.plot(k_vals, k_results.values())\n",
    "ax.set_title('Training accuracy for different k-values')\n",
    "ax.set_ylabel('Accuracy')\n",
    "ax.set_xlabel('k')\n",
    "ax.xaxis.set_ticks(k_vals)\n",
    "fig.show()\n",
    "fig.savefig(\"k_vals.png\")"
   ]
  },
  {
   "cell_type": "code",
   "execution_count": 33,
   "metadata": {},
   "outputs": [],
   "source": [
    "# use model with optimal hyperparameter k\n",
    "knn = KNN(X_train, Y_train, k=opt_k)"
   ]
  },
  {
   "cell_type": "code",
   "execution_count": 34,
   "metadata": {},
   "outputs": [
    {
     "name": "stdout",
     "output_type": "stream",
     "text": [
      "Training accuracy of model: 72.16\n"
     ]
    }
   ],
   "source": [
    "train_acc = knn.score(X_train, Y_train)\n",
    "print(f\"Training accuracy of model: {round(train_acc*100, 2)}\")"
   ]
  },
  {
   "cell_type": "code",
   "execution_count": 35,
   "metadata": {},
   "outputs": [
    {
     "name": "stdout",
     "output_type": "stream",
     "text": [
      "Test accuracy of model for guangzhou data: 93.64\n"
     ]
    }
   ],
   "source": [
    "test_acc_guangzhou = knn.score(X_test_guangzhou, Y_test_guangzhou)\n",
    "print(f\"Test accuracy of model for guangzhou data: {round(test_acc_guangzhou*100, 2)}\")\n"
   ]
  },
  {
   "cell_type": "code",
   "execution_count": 36,
   "metadata": {},
   "outputs": [
    {
     "name": "stdout",
     "output_type": "stream",
     "text": [
      "Test accuracy of model for shanghai data: 90.08\n"
     ]
    }
   ],
   "source": [
    "test_acc_shanghai = knn.score(X_test_shanghai, Y_test_shanghai)\n",
    "print(f\"Test accuracy of model for shanghai data: {round(test_acc_shanghai*100, 2)}\")\n"
   ]
  }
 ],
 "metadata": {
  "interpreter": {
   "hash": "744438a286f552de89f21840df11d95eed1d912f7f5940de34928fec5bf381d0"
  },
  "kernelspec": {
   "display_name": "Python 3.8.8 64-bit ('base': conda)",
   "language": "python",
   "name": "python3"
  },
  "language_info": {
   "codemirror_mode": {
    "name": "ipython",
    "version": 3
   },
   "file_extension": ".py",
   "mimetype": "text/x-python",
   "name": "python",
   "nbconvert_exporter": "python",
   "pygments_lexer": "ipython3",
   "version": "3.9.7"
  },
  "orig_nbformat": 4
 },
 "nbformat": 4,
 "nbformat_minor": 2
}
