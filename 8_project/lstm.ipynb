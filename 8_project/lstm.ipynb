{
 "cells": [
  {
   "cell_type": "code",
   "execution_count": 127,
   "metadata": {},
   "outputs": [],
   "source": [
    "import pandas as pd\n",
    "import numpy as np\n",
    "import torch\n",
    "from torch import nn\n",
    "from torch.autograd import Variable\n",
    "from torch.utils.tensorboard import SummaryWriter\n",
    "\n",
    "from util.encoding import encode\n",
    "\n",
    "from sklearn.model_selection import train_test_split\n",
    "from sklearn.preprocessing import StandardScaler"
   ]
  },
  {
   "cell_type": "code",
   "execution_count": 146,
   "metadata": {},
   "outputs": [],
   "source": [
    "# tensorboard\n",
    "writer = SummaryWriter()"
   ]
  },
  {
   "cell_type": "code",
   "execution_count": 164,
   "metadata": {},
   "outputs": [],
   "source": [
    "df = pd.read_csv(\"data/features.csv\")"
   ]
  },
  {
   "cell_type": "code",
   "execution_count": 165,
   "metadata": {},
   "outputs": [],
   "source": [
    "X = df.iloc[:, 2:-1]  # skip index and name\n",
    "\n",
    "y = df[\"label\"]  # 10 genres\n",
    "y, code = encode(y)\n",
    "y = np.array(y)\n",
    "\n",
    "#### NORMALIZE X ####\n",
    "\n",
    "cols = X.columns\n",
    "std_scaler = StandardScaler()\n",
    "np_scaled = std_scaler.fit_transform(X)\n",
    "\n",
    "# new data frame with the new scaled data.\n",
    "X = pd.DataFrame(np_scaled, columns=cols)\n",
    "\n",
    "X_train, X_test, y_train, y_test = train_test_split(X, y, test_size=0.2, random_state=42)\n",
    "X_train, X_val, y_train, y_val = train_test_split(X_train, y_train, test_size=0.1, random_state=42)\n"
   ]
  },
  {
   "cell_type": "code",
   "execution_count": 166,
   "metadata": {},
   "outputs": [],
   "source": [
    "# convert to tensors\n",
    "X_train_t = Variable(torch.FloatTensor(X_train.to_numpy()))\n",
    "X_val_t = Variable(torch.FloatTensor(X_val.to_numpy()))\n",
    "X_test_t = Variable(torch.FloatTensor(X_test.to_numpy()))\n",
    "\n",
    "y_train_t = Variable(torch.LongTensor(y_train))\n",
    "y_val_t = Variable(torch.LongTensor(y_val))\n",
    "y_test_t = Variable(torch.LongTensor(y_test))\n"
   ]
  },
  {
   "cell_type": "code",
   "execution_count": 167,
   "metadata": {},
   "outputs": [],
   "source": [
    "# reshaping to rows, timestamps, features\n",
    "def transform(X):\n",
    "    return torch.reshape(X, (X.shape[0], 1, X.shape[1]))\n",
    "\n",
    "\n",
    "X_train_t_final = transform(X_train_t)\n",
    "X_val_t_final = transform(X_val_t)\n",
    "X_test_t_final = transform(X_test_t)\n"
   ]
  },
  {
   "cell_type": "code",
   "execution_count": 174,
   "metadata": {},
   "outputs": [],
   "source": [
    "class LSTMNet(nn.Module):\n",
    "    def __init__(self, num_classes, input_size, hidden_size, num_layers, seq_length, dropout=0.2):\n",
    "        super(LSTMNet, self).__init__()\n",
    "        self.num_classes = num_classes  # number of classes\n",
    "        self.num_layers = num_layers  # number of layers\n",
    "        self.input_size = input_size  # input size\n",
    "        self.hidden_size = hidden_size  # hidden state\n",
    "        self.seq_length = seq_length  # sequence length\n",
    "\n",
    "        self.lstm = nn.LSTM(\n",
    "            input_size=input_size,\n",
    "            hidden_size=hidden_size,\n",
    "            num_layers=num_layers,\n",
    "            batch_first=True,\n",
    "        )  # lstm\n",
    "        self.fc_1 = nn.Linear(hidden_size, 128)  # fully connected 1\n",
    "        self.fc = nn.Linear(128, num_classes)  # fully connected last layer\n",
    "        self.dropout = nn.Dropout(dropout)\n",
    "        self.relu = nn.ReLU()\n",
    "\n",
    "    def forward(self, x):\n",
    "        h_0 = Variable(\n",
    "            torch.zeros(self.num_layers, x.size(0), self.hidden_size)\n",
    "        )  # hidden state\n",
    "        c_0 = Variable(\n",
    "            torch.zeros(self.num_layers, x.size(0), self.hidden_size)\n",
    "        )  # internal state\n",
    "        x = self.dropout(x)\n",
    "        # Propagate input through LSTM\n",
    "        output, (hn, cn) = self.lstm(\n",
    "            x, (h_0, c_0)\n",
    "        )  # lstm with input, hidden, and internal state\n",
    "        hn = hn.view(-1, self.hidden_size)  # reshaping the data for Dense layer next\n",
    "        out = self.relu(hn)\n",
    "        out = self.fc_1(out)  # first Dense\n",
    "        out = self.relu(out)  # relu\n",
    "        out = self.fc(out)  # Final Output\n",
    "        return out\n",
    "\n",
    "    def fit(self, X_train, y_train, X_val, y_val, learning_rate=0.01, verbose=False):\n",
    "        criterion = nn.CrossEntropyLoss()\n",
    "        optimizer = torch.optim.Adam(self.parameters(), lr=learning_rate)\n",
    "\n",
    "        self.train()\n",
    "        for epoch in range(num_epochs):\n",
    "            self.train()\n",
    "            # train data\n",
    "            outputs = self.forward(X_train)  # forward pass\n",
    "            optimizer.zero_grad()  # caluclate the gradient, manually setting to 0\n",
    "\n",
    "            # obtain the loss function\n",
    "            loss = criterion(outputs, y_train)\n",
    "            writer.add_scalar(\"loss/train\", loss, epoch)\n",
    "            loss.backward()  # calculates the loss of the loss function\n",
    "\n",
    "            optimizer.step()  # improve from loss, i.e backprop\n",
    "            if epoch % 100 == 0 and verbose:\n",
    "                print(\"Epoch: %d, loss: %1.5f\" % (epoch, loss.item()))\n",
    "\n",
    "            # validation data\n",
    "            out_val = self.forward(X_val)  # forward pass\n",
    "\n",
    "            # obtain the loss function\n",
    "            loss_val = criterion(out_val, y_val)\n",
    "            writer.add_scalar(\"loss/val\", loss_val, epoch)\n",
    "\n",
    "        \n",
    "        writer.flush()\n",
    "        writer.close()\n",
    "\n",
    "    def predict(self, X_test):\n",
    "        self.eval()\n",
    "        preds_t = self(X_test)\n",
    "        y_pred = torch.argmax(preds_t, axis=1)\n",
    "        return y_pred.detach().numpy()\n",
    "\n",
    "    def score(self, X_test, y_test):\n",
    "        self.eval()\n",
    "        preds_t = self(X_test)\n",
    "        y_pred = torch.argmax(preds_t, axis=1)\n",
    "        y_test_t = torch.Tensor(y_test)\n",
    "        acc = torch.sum(y_pred == y_test_t) / y_pred.shape[0]\n",
    "        return float(acc)\n"
   ]
  },
  {
   "cell_type": "code",
   "execution_count": 187,
   "metadata": {},
   "outputs": [],
   "source": [
    "# hyperparamaters\n",
    "num_epochs = 2000\n",
    "learning_rate = 0.01\n",
    "dropout = 0.3\n",
    "\n",
    "input_size = 29  # number of features\n",
    "hidden_size = 12  # number of features in hidden state\n",
    "num_layers = 1  # number of stacked lstm layers\n",
    "\n",
    "num_classes = 10  # number of output classes\n"
   ]
  },
  {
   "cell_type": "code",
   "execution_count": 188,
   "metadata": {},
   "outputs": [
    {
     "name": "stdout",
     "output_type": "stream",
     "text": [
      "Epoch: 0, loss: 2.30422\n",
      "Epoch: 100, loss: 1.02639\n",
      "Epoch: 200, loss: 0.89935\n",
      "Epoch: 300, loss: 0.82396\n",
      "Epoch: 400, loss: 0.75610\n",
      "Epoch: 500, loss: 0.76413\n",
      "Epoch: 600, loss: 0.70796\n",
      "Epoch: 700, loss: 0.66902\n",
      "Epoch: 800, loss: 0.70074\n",
      "Epoch: 900, loss: 0.66837\n",
      "Epoch: 1000, loss: 0.69433\n",
      "Epoch: 1100, loss: 0.68270\n",
      "Epoch: 1200, loss: 0.62629\n",
      "Epoch: 1300, loss: 0.64127\n",
      "Epoch: 1400, loss: 0.59341\n",
      "Epoch: 1500, loss: 0.63627\n",
      "Epoch: 1600, loss: 0.64593\n",
      "Epoch: 1700, loss: 0.61435\n",
      "Epoch: 1800, loss: 0.55676\n",
      "Epoch: 1900, loss: 0.60808\n"
     ]
    }
   ],
   "source": [
    "model = LSTMNet(\n",
    "    num_classes, input_size, hidden_size, num_layers, X_train_t_final.shape[1], dropout=dropout\n",
    ")\n",
    "model.fit(X_train_t_final, y_train_t, X_val_t_final, y_val_t, learning_rate=learning_rate, verbose=True)\n"
   ]
  },
  {
   "cell_type": "code",
   "execution_count": 121,
   "metadata": {},
   "outputs": [
    {
     "data": {
      "text/plain": [
       "array([6, 9, 0, 1, 5, 1, 8, 3, 5, 8, 5, 0, 0, 9, 6, 1, 9, 1, 3, 6, 6, 0,\n",
       "       1, 8, 9, 7, 8, 6, 8, 0, 0, 8, 8, 6, 4, 5, 3, 7, 6, 6, 5, 8, 4, 6,\n",
       "       1, 8, 8, 9, 5, 7, 5, 1, 1, 0, 8, 2, 5, 9, 0, 1, 5, 1, 6, 3, 0, 3,\n",
       "       4, 3, 1, 1, 7, 3, 0, 6, 5, 4, 0, 6, 8, 9, 7, 8, 3, 6, 7, 8, 7, 7,\n",
       "       4, 2, 3, 6, 5, 5, 0, 4, 3, 7, 0, 6, 0, 2, 5, 9, 1, 6, 4, 9, 6, 6,\n",
       "       7, 3, 3, 3, 5, 4, 2, 4, 0, 5, 5, 9, 9, 3, 1, 4, 4, 0, 0, 8, 0, 0,\n",
       "       4, 4, 5, 0, 7, 3, 6, 3, 5, 9, 3, 4, 8, 5, 4, 8, 4, 1, 5, 3, 7, 7,\n",
       "       2, 9, 4, 8, 1, 0, 9, 1, 1, 0, 0, 5, 9, 9, 4, 8, 5, 8, 1, 7, 8, 3,\n",
       "       2, 7, 1, 0, 3, 1, 2, 9, 1, 2, 0, 7, 4, 5, 2, 3, 3, 8, 3, 6, 4, 5,\n",
       "       4, 8, 8, 1, 1, 3, 9, 8, 5, 1, 5, 3, 9, 1, 5, 4, 9, 8, 9, 4, 1, 1,\n",
       "       6, 0, 3, 7, 1, 9, 9, 8, 8, 0, 4, 6, 3, 0, 8, 7, 8, 0, 2, 3, 9, 2,\n",
       "       2, 7, 0, 3, 6, 9, 2, 2, 9, 9, 1, 2, 2, 3, 6, 4, 3, 6, 2, 8, 8, 4,\n",
       "       2, 4, 4, 8, 3, 6, 5, 5, 5, 0, 2, 7, 2, 3, 6, 2, 0, 8, 0, 6, 9, 6,\n",
       "       7, 5, 2, 1, 2, 3, 1, 9, 5, 4, 2, 7, 4, 9])"
      ]
     },
     "execution_count": 121,
     "metadata": {},
     "output_type": "execute_result"
    }
   ],
   "source": [
    "y_pred = model.predict(X_test_t_final)\n",
    "y_pred"
   ]
  },
  {
   "cell_type": "code",
   "execution_count": 189,
   "metadata": {},
   "outputs": [
    {
     "data": {
      "text/plain": [
       "0.7200000286102295"
      ]
     },
     "execution_count": 189,
     "metadata": {},
     "output_type": "execute_result"
    }
   ],
   "source": [
    "model.score(X_test_t_final, y_test)"
   ]
  }
 ],
 "metadata": {
  "interpreter": {
   "hash": "744438a286f552de89f21840df11d95eed1d912f7f5940de34928fec5bf381d0"
  },
  "kernelspec": {
   "display_name": "Python 3.9.7 ('base')",
   "language": "python",
   "name": "python3"
  },
  "language_info": {
   "codemirror_mode": {
    "name": "ipython",
    "version": 3
   },
   "file_extension": ".py",
   "mimetype": "text/x-python",
   "name": "python",
   "nbconvert_exporter": "python",
   "pygments_lexer": "ipython3",
   "version": "3.9.7"
  },
  "orig_nbformat": 4
 },
 "nbformat": 4,
 "nbformat_minor": 2
}
