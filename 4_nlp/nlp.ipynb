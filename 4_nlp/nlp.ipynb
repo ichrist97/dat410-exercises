{
 "cells": [
  {
   "cell_type": "code",
   "execution_count": 1,
   "metadata": {},
   "outputs": [],
   "source": [
    "from collections import Counter"
   ]
  },
  {
   "cell_type": "markdown",
   "metadata": {},
   "source": [
    "Warmup statistics for most common words"
   ]
  },
  {
   "cell_type": "code",
   "execution_count": 26,
   "metadata": {},
   "outputs": [],
   "source": [
    "def read_file(filepath: str):\n",
    "    words = []\n",
    "    with open(filepath, \"r\") as f:\n",
    "        lines = f.readlines()\n",
    "        lines = [l.strip() for l in lines]  # strip whitespace and newline character\n",
    "        for line in lines:\n",
    "            words.extend(line.split(\" \"))\n",
    "    return words\n"
   ]
  },
  {
   "cell_type": "code",
   "execution_count": 27,
   "metadata": {},
   "outputs": [],
   "source": [
    "# german text\n",
    "data_de_path = \"./data/europarl-v7.de-en.lc.de\"\n",
    "de_words = read_file(data_de_path)\n",
    "\n",
    "# english text\n",
    "data_en_path = \"./data/europarl-v7.de-en.lc.en\"\n",
    "en_words = read_file(data_en_path)"
   ]
  },
  {
   "cell_type": "code",
   "execution_count": 28,
   "metadata": {},
   "outputs": [
    {
     "name": "stdout",
     "output_type": "stream",
     "text": [
      "Most common 10 words in german text:\n",
      "Word: ','; Count: 18549\n",
      "Word: 'die'; Count: 10521\n",
      "Word: '.'; Count: 9733\n",
      "Word: 'der'; Count: 9374\n",
      "Word: 'und'; Count: 7028\n",
      "Word: 'in'; Count: 4175\n",
      "Word: 'zu'; Count: 3168\n",
      "Word: 'den'; Count: 2976\n",
      "Word: 'wir'; Count: 2863\n",
      "Word: 'daß'; Count: 2738\n",
      "Most common 10 words in english text:\n",
      "Word: 'the'; Count: 19847\n",
      "Word: ','; Count: 14320\n",
      "Word: '.'; Count: 9920\n",
      "Word: 'of'; Count: 9597\n",
      "Word: 'to'; Count: 9059\n",
      "Word: 'and'; Count: 7303\n",
      "Word: 'in'; Count: 6237\n",
      "Word: 'is'; Count: 4478\n",
      "Word: 'that'; Count: 4441\n",
      "Word: 'a'; Count: 4435\n"
     ]
    }
   ],
   "source": [
    "de_cnt = Counter(de_words)\n",
    "en_cnt = Counter(en_words)\n",
    "\n",
    "n = 10\n",
    "de_most_cmn = de_cnt.most_common(n)\n",
    "en_most_cmn = en_cnt.most_common(n)\n",
    "\n",
    "print(f\"Most common {n} words in german text:\")\n",
    "for word, cnt in de_most_cmn:\n",
    "    print(f\"Word: '{word}'; Count: {cnt}\")\n",
    "\n",
    "print(f\"Most common {n} words in english text:\")\n",
    "for word, cnt in en_most_cmn:\n",
    "    print(f\"Word: '{word}'; Count: {cnt}\")\n"
   ]
  },
  {
   "cell_type": "code",
   "execution_count": 37,
   "metadata": {},
   "outputs": [
    {
     "name": "stdout",
     "output_type": "stream",
     "text": [
      "Probability for 'zebra': 0.0\n",
      "Probability for 'speaker': 3.78883e-05\n"
     ]
    }
   ],
   "source": [
    "p_zebra = en_cnt[\"zebra\"] / len(en_words)\n",
    "print(f\"Probability for 'zebra': {p_zebra}\")\n",
    "\n",
    "p_speaker = en_cnt[\"speaker\"] / len(en_words)\n",
    "print(f\"Probability for 'speaker': {p_speaker}\")"
   ]
  },
  {
   "cell_type": "markdown",
   "metadata": {},
   "source": [
    "Language modeling"
   ]
  },
  {
   "cell_type": "markdown",
   "metadata": {},
   "source": [
    "Translation modeling"
   ]
  },
  {
   "cell_type": "markdown",
   "metadata": {},
   "source": [
    "Decoding"
   ]
  }
 ],
 "metadata": {
  "interpreter": {
   "hash": "744438a286f552de89f21840df11d95eed1d912f7f5940de34928fec5bf381d0"
  },
  "kernelspec": {
   "display_name": "Python 3.8.8 ('base')",
   "language": "python",
   "name": "python3"
  },
  "language_info": {
   "codemirror_mode": {
    "name": "ipython",
    "version": 3
   },
   "file_extension": ".py",
   "mimetype": "text/x-python",
   "name": "python",
   "nbconvert_exporter": "python",
   "pygments_lexer": "ipython3",
   "version": "3.8.8"
  },
  "orig_nbformat": 4
 },
 "nbformat": 4,
 "nbformat_minor": 2
}
